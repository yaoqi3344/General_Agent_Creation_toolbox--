{
 "cells": [
  {
   "attachments": {},
   "cell_type": "markdown",
   "metadata": {},
   "source": [
    "# Overview\n",
    "\n",
    "TruLens provides a number of different instrumentation frameworks to allow you to inspect and evaluate the internals of your application and its associated records. In any framework you can track a wide variety of usage metrics and metadata, detailed below, along with the inputs and outputs of the application. For frameworks with deep integrations, TruLens can expose additional internals of the application for tracking.\n",
    "\n",
    "## What can you track?\n",
    "\n",
    "### **Usage Metrics**\n",
    "* Number of requests (n_requests)\n",
    "* Number of successful ones (n_successful_requests)\n",
    "* Number of class scores retrieved (n_classes)\n",
    "* Total tokens processed (n_tokens)\n",
    "* In streaming mode, number of chunks produced (n_stream_chunks)\n",
    "* Number of prompt tokens supplied (n_prompt_tokens)\n",
    "* Number of completion tokens generated (n_completion_tokens)\n",
    "* Cost in USD (cost)\n",
    "\n",
    "### **App Metadata**\n",
    "* App ID (app_id) - user supplied string or automatically generated hash\n",
    "* Tags (tags) - user supplied string\n",
    "* Model metadata - user supplied json\n",
    "\n",
    "### **Record Metadata**\n",
    "* Record ID (record_id) - automatically generated, track individual application calls\n",
    "* Timestamp (ts) - automatcially tracked, the timestamp of the application call\n",
    "* Latency (latency) - the difference between the application call start and end time."
   ]
  },
  {
   "attachments": {},
   "cell_type": "markdown",
   "metadata": {},
   "source": [
    "## Tracking custom applications\n",
    "\n",
    "Outside of integrations, TruLens supports the instrumentation of any text-to-text application, including custom ones.\n",
    "\n",
    "The way to track this type of application is through TruBasicApp.\n",
    "\n",
    "Suppose you have a generic text-to-text application as follows:"
   ]
  },
  {
   "cell_type": "code",
   "execution_count": null,
   "metadata": {},
   "outputs": [],
   "source": [
    "def custom_application(prompt: str) -> str:\n",
    "    return \"a response\""
   ]
  },
  {
   "attachments": {},
   "cell_type": "markdown",
   "metadata": {},
   "source": [
    "After creating the application, TruBasicApp allows you to instrument it in one line of code:"
   ]
  },
  {
   "cell_type": "code",
   "execution_count": null,
   "metadata": {},
   "outputs": [],
   "source": [
    "from trulens_eval import TruBasicApp\n",
    "basic_app_recorder = TruBasicApp(custom_application, app_id=\"Custom Application v1\")"
   ]
  },
  {
   "attachments": {},
   "cell_type": "markdown",
   "metadata": {},
   "source": [
    "Then, you can operate the application like normal:"
   ]
  },
  {
   "cell_type": "code",
   "execution_count": null,
   "metadata": {},
   "outputs": [],
   "source": [
    "with basic_app_recorder as recording:\n",
    "    basic_app_recorder.app(\"What is the phone number for HR?\")"
   ]
  },
  {
   "attachments": {},
   "cell_type": "markdown",
   "metadata": {},
   "source": [
    "Read more about TruBasicApp in the [API reference](../api/trubasicapp) or check out the [text2text quickstart](../text2text_quickstart)."
   ]
  },
  {
   "attachments": {},
   "cell_type": "markdown",
   "metadata": {},
   "source": [
    "If instead, you're looking to use TruLens with a more complex custom application, you can use TruCustom.\n",
    "\n",
    "For more information, plese read more about TruCustom in the [API Reference](../api/trucustom)"
   ]
  }
 ],
 "metadata": {
  "kernelspec": {
   "display_name": "Python 3.11.3 64-bit ('saas_ga')",
   "language": "python",
   "name": "python3"
  },
  "language_info": {
   "name": "python",
   "version": "3.8.16"
  },
  "orig_nbformat": 4,
  "vscode": {
   "interpreter": {
    "hash": "9c18147cca92ce3cf104f5cbe1f8090c1871fa0fa706f72173a849fae969970c"
   }
  }
 },
 "nbformat": 4,
 "nbformat_minor": 2
}
